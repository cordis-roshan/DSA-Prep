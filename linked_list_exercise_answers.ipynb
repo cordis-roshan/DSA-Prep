{
 "cells": [
  {
   "cell_type": "code",
   "execution_count": 116,
   "id": "6110d7ae-b1af-4cc1-b745-ceee20e60a82",
   "metadata": {},
   "outputs": [],
   "source": [
    "class Node:\n",
    "    def __init__(self, data = None, next = None):\n",
    "        self.data = data\n",
    "        self.next = next"
   ]
  },
  {
   "cell_type": "markdown",
   "id": "57eeadd9-16a2-48ee-8b81-1113128d58da",
   "metadata": {},
   "source": [
    "# Exercise: Linked List\n",
    "```\n",
    "def insert_after_value(self, data_after, data_to_insert):\n",
    "    # Search for first occurance of data_after value in linked list\n",
    "    # Now insert data_to_insert after data_after node\n",
    "\n",
    "def remove_by_value(self, data):\n",
    "    # Remove first node that contains data\n",
    "```\n",
    "Now make following calls,\n",
    "```\n",
    "    ll = LinkedList()\n",
    "    ll.insert_values([\"banana\",\"mango\",\"grapes\",\"orange\"])\n",
    "    ll.print()\n",
    "    ll.insert_after_value(\"mango\",\"apple\") # insert apple after mango\n",
    "    ll.print()\n",
    "    ll.remove_by_value(\"orange\") # remove orange from linked list\n",
    "    ll.print()\n",
    "    ll.remove_by_value(\"figs\")\n",
    "    ll.print()\n",
    "    ll.remove_by_value(\"banana\")\n",
    "    ll.remove_by_value(\"mango\")\n",
    "    ll.remove_by_value(\"apple\")\n",
    "    ll.remove_by_value(\"grapes\")\n",
    "    ll.print()"
   ]
  },
  {
   "cell_type": "code",
   "execution_count": 132,
   "id": "86cc8802-9dd5-4f8a-8b5c-7bff8e9d5151",
   "metadata": {},
   "outputs": [],
   "source": [
    "class LinkedList:\n",
    "    def __init__(self):\n",
    "        self.head = None\n",
    "\n",
    "    def print(self):\n",
    "        if self.head is None:\n",
    "            print(\"There is no Linked List\")\n",
    "        else:\n",
    "            cur = self.head\n",
    "            while cur is not None:\n",
    "                print(cur.data)\n",
    "                cur = cur.next\n",
    "\n",
    "    #Adding data at start or append:\n",
    "    def insert(self,data):\n",
    "        #create a new node\n",
    "        newNode = Node(data)\n",
    "        #insert the new node in the begining without index\n",
    "        if self.head is None:\n",
    "            self.head = newNode\n",
    "            #insert at end if there is ll\n",
    "        else:\n",
    "            cur = self.head\n",
    "            while cur.next is not None:\n",
    "                cur = cur.next\n",
    "            cur.next = newNode\n",
    "            \n",
    "    #get length\n",
    "    def get_length(self):\n",
    "        count = 0\n",
    "        cur = self.head\n",
    "        while cur is not None:\n",
    "            cur = cur.next\n",
    "            count +=1\n",
    "        return count\n",
    "            \n",
    "    #insert at index\n",
    "    def insert_at(self, index, data):\n",
    "        if index < 0 or index >= self.get_length():\n",
    "            raise Exception (\"Index out of range\")\n",
    "\n",
    "        if index == 0:\n",
    "            newNode = Node(data,self.head)\n",
    "            self.head = newNode\n",
    "            return\n",
    "\n",
    "        count = 0\n",
    "        cur = self.head\n",
    "        while cur:\n",
    "            if count == index - 1:\n",
    "                newNode = Node(data,cur.next)\n",
    "                cur.next = newNode\n",
    "\n",
    "            cur = cur.next\n",
    "            count += 1\n",
    "            \n",
    "    #remove with data\n",
    "    def remove_by_value(self,data):\n",
    "        if self.head is not None:\n",
    "            if self.head.data == data:\n",
    "                self.head = self.head.next\n",
    "\n",
    "            else:\n",
    "                cur = self.head\n",
    "                while cur.next is not None and cur.next.data != data:\n",
    "                    cur = cur.next\n",
    "\n",
    "                if cur.next is not None:\n",
    "                    cur.next = cur.next.next\n",
    "                else:\n",
    "                    print(\"data is not present in the Linked List\")\n",
    "\n",
    "        else:\n",
    "            print(\"There is no Linked List\")\n",
    "\n",
    "    #remove at specific index\n",
    "    def remove_at(self, index):\n",
    "        if index < 0 or index >= self.get_length():\n",
    "            raise Exception(\"Index out of range\")\n",
    "\n",
    "\n",
    "        if index == 0:\n",
    "            self.head = self.head.next\n",
    "            return\n",
    "\n",
    "        count = 0\n",
    "        cur = self.head\n",
    "        while cur:\n",
    "            if count == index - 1:\n",
    "                cur.next = cur.next.next\n",
    "\n",
    "            cur = cur.next\n",
    "            count += 1\n",
    "\n",
    "\n",
    "    def insert_after_value(self, data_after, data_to_insert):\n",
    "        cur = self.head\n",
    "        while cur is not None:\n",
    "            if cur.data == data_after:\n",
    "                node = Node(data_to_insert, cur.next)\n",
    "                cur.next = node\n",
    "                \n",
    "            cur = cur.next\n",
    "\n",
    "\n",
    "    def insert_values(self, data_list):\n",
    "        self.head = None\n",
    "        for data in data_list:\n",
    "            self.insert(data)\n",
    "\n"
   ]
  },
  {
   "cell_type": "markdown",
   "id": "ce6ea26a-8614-4f69-9e9d-2e00b709e480",
   "metadata": {},
   "source": [
    "# 1st Exercise"
   ]
  },
  {
   "cell_type": "code",
   "execution_count": 133,
   "id": "1aaecf97-c168-4731-af79-b01a1a32f907",
   "metadata": {},
   "outputs": [],
   "source": [
    "l = LinkedList()"
   ]
  },
  {
   "cell_type": "code",
   "execution_count": 134,
   "id": "d04677f5-6b44-43b1-8c05-6f24550292a0",
   "metadata": {},
   "outputs": [],
   "source": [
    "l.insert(1)\n",
    "l.insert(2)\n",
    "l.insert(3)\n",
    "l.insert(4)\n",
    "l.insert(5)\n",
    "l.insert(6)\n"
   ]
  },
  {
   "cell_type": "code",
   "execution_count": 135,
   "id": "b7749107-5168-461a-a79e-233a08550296",
   "metadata": {},
   "outputs": [
    {
     "name": "stdout",
     "output_type": "stream",
     "text": [
      "1\n",
      "2\n",
      "3\n",
      "4\n",
      "5\n",
      "6\n"
     ]
    }
   ],
   "source": [
    "l.print()"
   ]
  },
  {
   "cell_type": "code",
   "execution_count": 136,
   "id": "6c19cc1b-cd56-41f6-b24d-53a2fd2c89c5",
   "metadata": {},
   "outputs": [],
   "source": [
    "l.insert_after_value(2,7)"
   ]
  },
  {
   "cell_type": "code",
   "execution_count": 137,
   "id": "70f23fbe-a36a-4a87-a90a-405d5e8e5c08",
   "metadata": {},
   "outputs": [
    {
     "name": "stdout",
     "output_type": "stream",
     "text": [
      "1\n",
      "2\n",
      "7\n",
      "3\n",
      "4\n",
      "5\n",
      "6\n"
     ]
    }
   ],
   "source": [
    "l.print()"
   ]
  },
  {
   "cell_type": "code",
   "execution_count": 138,
   "id": "c19d6d7f-39c8-477a-adbf-804c4a214213",
   "metadata": {},
   "outputs": [
    {
     "data": {
      "text/plain": [
       "7"
      ]
     },
     "execution_count": 138,
     "metadata": {},
     "output_type": "execute_result"
    }
   ],
   "source": [
    "l.get_length()"
   ]
  },
  {
   "cell_type": "code",
   "execution_count": 139,
   "id": "417c992a-7ff7-4ef6-9d2a-37166f4e7434",
   "metadata": {},
   "outputs": [],
   "source": [
    "l.insert_after_value(6,10)"
   ]
  },
  {
   "cell_type": "code",
   "execution_count": 140,
   "id": "a9427afc-ac2e-4e9e-b392-566029dee792",
   "metadata": {},
   "outputs": [
    {
     "name": "stdout",
     "output_type": "stream",
     "text": [
      "1\n",
      "2\n",
      "7\n",
      "3\n",
      "4\n",
      "5\n",
      "6\n",
      "10\n"
     ]
    }
   ],
   "source": [
    "l.print()"
   ]
  },
  {
   "cell_type": "code",
   "execution_count": 141,
   "id": "8b65260e-e059-4e76-8959-8f6063cee0b4",
   "metadata": {},
   "outputs": [],
   "source": [
    "l.remove_by_value(10)"
   ]
  },
  {
   "cell_type": "code",
   "execution_count": 142,
   "id": "9d001326-4ab9-4493-a26e-aaf9cc5ffffd",
   "metadata": {},
   "outputs": [
    {
     "name": "stdout",
     "output_type": "stream",
     "text": [
      "1\n",
      "2\n",
      "7\n",
      "3\n",
      "4\n",
      "5\n",
      "6\n"
     ]
    }
   ],
   "source": [
    "l.print()"
   ]
  },
  {
   "cell_type": "code",
   "execution_count": 143,
   "id": "c915a5a0-0b9d-4e60-ae2f-e5b83fd5cac4",
   "metadata": {},
   "outputs": [],
   "source": [
    "l.remove_by_value(7)"
   ]
  },
  {
   "cell_type": "code",
   "execution_count": 144,
   "id": "c5b54357-1c84-4572-b845-694705fd8479",
   "metadata": {},
   "outputs": [
    {
     "name": "stdout",
     "output_type": "stream",
     "text": [
      "1\n",
      "2\n",
      "3\n",
      "4\n",
      "5\n",
      "6\n"
     ]
    }
   ],
   "source": [
    "l.print()"
   ]
  },
  {
   "cell_type": "markdown",
   "id": "42e626a6-4e5c-4f3c-bffa-8473a1dd302c",
   "metadata": {},
   "source": [
    "# 2nd Exercise"
   ]
  },
  {
   "cell_type": "code",
   "execution_count": 145,
   "id": "ec82ea51-560d-4682-b5fd-bba9fd10c7ae",
   "metadata": {},
   "outputs": [],
   "source": [
    "ll = LinkedList()"
   ]
  },
  {
   "cell_type": "code",
   "execution_count": 146,
   "id": "20e9d439-c766-4e91-a4fa-d30d238629f6",
   "metadata": {},
   "outputs": [],
   "source": [
    "ll.insert_values([\"banana\",\"mango\",\"grapes\",\"orange\"])\n"
   ]
  },
  {
   "cell_type": "code",
   "execution_count": 147,
   "id": "bac16f9b-2afc-4d90-acbe-cb2c885e396b",
   "metadata": {},
   "outputs": [
    {
     "name": "stdout",
     "output_type": "stream",
     "text": [
      "banana\n",
      "mango\n",
      "grapes\n",
      "orange\n"
     ]
    }
   ],
   "source": [
    "ll.print()"
   ]
  },
  {
   "cell_type": "code",
   "execution_count": 148,
   "id": "ca6f1997-49bf-4a75-8935-bb3656c20f2f",
   "metadata": {},
   "outputs": [],
   "source": [
    "ll.insert_after_value(\"mango\",\"apple\") # insert apple after mango"
   ]
  },
  {
   "cell_type": "code",
   "execution_count": 149,
   "id": "d391f4fa-700f-4ebb-a23e-51b6850ffb3d",
   "metadata": {},
   "outputs": [
    {
     "name": "stdout",
     "output_type": "stream",
     "text": [
      "banana\n",
      "mango\n",
      "apple\n",
      "grapes\n",
      "orange\n"
     ]
    }
   ],
   "source": [
    "ll.print()"
   ]
  },
  {
   "cell_type": "code",
   "execution_count": 150,
   "id": "67393258-2549-4210-9d7a-2a4e675d6f11",
   "metadata": {},
   "outputs": [],
   "source": [
    "ll.remove_by_value(\"orange\") # remove orange from linked list"
   ]
  },
  {
   "cell_type": "code",
   "execution_count": 151,
   "id": "af56e483-0e3e-4bdc-8102-c996a713c754",
   "metadata": {},
   "outputs": [
    {
     "name": "stdout",
     "output_type": "stream",
     "text": [
      "banana\n",
      "mango\n",
      "apple\n",
      "grapes\n"
     ]
    }
   ],
   "source": [
    "ll.print()"
   ]
  },
  {
   "cell_type": "code",
   "execution_count": 152,
   "id": "a0a393e4-6595-4246-8ae6-b0e1d2985651",
   "metadata": {},
   "outputs": [
    {
     "name": "stdout",
     "output_type": "stream",
     "text": [
      "data is not present in the Linked List\n"
     ]
    }
   ],
   "source": [
    "ll.remove_by_value(\"figs\")"
   ]
  },
  {
   "cell_type": "code",
   "execution_count": 153,
   "id": "783b7332-cf59-4c5b-a35a-b57f4586ca32",
   "metadata": {},
   "outputs": [
    {
     "name": "stdout",
     "output_type": "stream",
     "text": [
      "banana\n",
      "mango\n",
      "apple\n",
      "grapes\n"
     ]
    }
   ],
   "source": [
    "ll.print()"
   ]
  },
  {
   "cell_type": "code",
   "execution_count": 154,
   "id": "794df6ad-0950-4932-bf4a-2444a33603ea",
   "metadata": {},
   "outputs": [
    {
     "name": "stdout",
     "output_type": "stream",
     "text": [
      "There is no Linked List\n"
     ]
    }
   ],
   "source": [
    "ll.remove_by_value(\"banana\")\n",
    "ll.remove_by_value(\"mango\")\n",
    "ll.remove_by_value(\"apple\")\n",
    "ll.remove_by_value(\"grapes\")\n",
    "ll.print()"
   ]
  },
  {
   "cell_type": "code",
   "execution_count": null,
   "id": "8bd12745-c554-4038-a55a-3be25bd57b9e",
   "metadata": {},
   "outputs": [],
   "source": []
  }
 ],
 "metadata": {
  "kernelspec": {
   "display_name": "Python 3 (ipykernel)",
   "language": "python",
   "name": "python3"
  },
  "language_info": {
   "codemirror_mode": {
    "name": "ipython",
    "version": 3
   },
   "file_extension": ".py",
   "mimetype": "text/x-python",
   "name": "python",
   "nbconvert_exporter": "python",
   "pygments_lexer": "ipython3",
   "version": "3.11.7"
  }
 },
 "nbformat": 4,
 "nbformat_minor": 5
}
