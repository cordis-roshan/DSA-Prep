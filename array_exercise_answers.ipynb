{
 "cells": [
  {
   "cell_type": "markdown",
   "id": "3c4325a4-3690-4b20-a0d5-b0e10ecef162",
   "metadata": {},
   "source": [
    "This is the solution to the DSA Array_exercise from the codebasic yt channel.\n",
    "\n",
    "1. Let us say your expense for every month are listed below,\n",
    "\t1. January -  2200\n",
    " \t2. February - 2350\n",
    "    3. March - 2600\n",
    "    4. April - 2130\n",
    "    5. May - 2190\n",
    "\n",
    "Create a list to store these monthly expenses and using that find out,\n",
    "\n",
    "    1. In Feb, how many dollars you spent extra compare to January?\n",
    "    2. Find out your total expense in first quarter (first three months) of the year.\n",
    "    3. Find out if you spent exactly 2000 dollars in any month\n",
    "    4. June month just finished and your expense is 1980 dollar. Add this item to our monthly expense list\n",
    "    5. You returned an item that you bought in a month of April and\n",
    "    got a refund of 200$. Make a correction to your monthly expense list\n",
    "    based on this\n",
    "    "
   ]
  },
  {
   "cell_type": "code",
   "execution_count": 14,
   "id": "59914501-c2db-42f4-89ed-6ffe9f9d841f",
   "metadata": {},
   "outputs": [],
   "source": [
    "# creating the list to store expense.\n",
    "expense = [2200, 2350, 2600, 2130, 2190]"
   ]
  },
  {
   "cell_type": "code",
   "execution_count": 15,
   "id": "e4d0b791-ba6a-4ff1-ae35-40b080f4bbcc",
   "metadata": {},
   "outputs": [
    {
     "name": "stdout",
     "output_type": "stream",
     "text": [
      "150\n"
     ]
    }
   ],
   "source": [
    "#1 In Feb, how many dollars you spent extra compare to January?\n",
    "diff = expense[1] - expense[0]\n",
    "print(diff)"
   ]
  },
  {
   "cell_type": "code",
   "execution_count": 16,
   "id": "7ebedcf0-c002-4edd-8485-cd05297c0a37",
   "metadata": {},
   "outputs": [
    {
     "name": "stdout",
     "output_type": "stream",
     "text": [
      "7150\n"
     ]
    }
   ],
   "source": [
    "# 2. Find out your total expense in first quarter (first three months) of the year.\n",
    "total = 0\n",
    "for exp in expense[:3]:\n",
    "    total += exp\n",
    "print(total)\n",
    "    \n",
    "    "
   ]
  },
  {
   "cell_type": "code",
   "execution_count": 17,
   "id": "54bba39c-97e1-452f-9164-372e59047ff5",
   "metadata": {},
   "outputs": [
    {
     "name": "stdout",
     "output_type": "stream",
     "text": [
      "no\n"
     ]
    }
   ],
   "source": [
    "# 3. Find out if you spent exactly 2000 dollars in any month\n",
    "for exp in expense:\n",
    "    if exp == 2000:\n",
    "        print(\"yes\")\n",
    "print(\"no\")\n",
    "    "
   ]
  },
  {
   "cell_type": "code",
   "execution_count": 18,
   "id": "d1d90f44-9cf0-4a7f-8775-ffa060ffa06f",
   "metadata": {},
   "outputs": [
    {
     "name": "stdout",
     "output_type": "stream",
     "text": [
      "[2200, 2350, 2600, 2130, 2190, 1980]\n"
     ]
    }
   ],
   "source": [
    "# 4. June month just finished and your expense is 1980 dollar. Add this item to our monthly expense list\n",
    "expense.insert(5, 1980)\n",
    "print(expense)"
   ]
  },
  {
   "cell_type": "code",
   "execution_count": 20,
   "id": "4c8cae3a-5ca3-4101-98bf-9ae78d0e3aef",
   "metadata": {},
   "outputs": [
    {
     "name": "stdout",
     "output_type": "stream",
     "text": [
      "2130\n"
     ]
    }
   ],
   "source": [
    "# 5. You returned an item that you bought in a month of April andgot a refund of 200$. Make a correction to your monthly expense list based on this\n",
    "expense[3] = expense[3] - 200\n",
    "print(expense[3])"
   ]
  },
  {
   "cell_type": "code",
   "execution_count": null,
   "id": "e013b401-5e0b-4b72-89e1-b8688ef8f4f7",
   "metadata": {},
   "outputs": [],
   "source": []
  }
 ],
 "metadata": {
  "kernelspec": {
   "display_name": "Python 3 (ipykernel)",
   "language": "python",
   "name": "python3"
  },
  "language_info": {
   "codemirror_mode": {
    "name": "ipython",
    "version": 3
   },
   "file_extension": ".py",
   "mimetype": "text/x-python",
   "name": "python",
   "nbconvert_exporter": "python",
   "pygments_lexer": "ipython3",
   "version": "3.11.7"
  }
 },
 "nbformat": 4,
 "nbformat_minor": 5
}
